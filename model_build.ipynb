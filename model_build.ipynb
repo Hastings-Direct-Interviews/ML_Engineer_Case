{
 "cells": [
  {
   "cell_type": "markdown",
   "id": "a6cf9fbd-b7b6-410d-849d-aa7782414787",
   "metadata": {},
   "source": [
    "# FNOL Model Build"
   ]
  },
  {
   "cell_type": "code",
   "execution_count": 1,
   "id": "ff166265-1a4a-4a68-a289-99ddf5021d6b",
   "metadata": {
    "tags": []
   },
   "outputs": [],
   "source": [
    "import pandas as pd\n",
    "from catboost import CatBoostRegressor, CatBoostClassifier, Pool, cv\n",
    "from sklearn.metrics import mean_absolute_error, log_loss\n",
    "import numpy as np\n",
    "# from sklearn.model_selection import train_test_split"
   ]
  },
  {
   "cell_type": "code",
   "execution_count": 2,
   "id": "46d8ead4-236a-4575-80df-62e1cc7537a0",
   "metadata": {},
   "outputs": [],
   "source": [
    "df = pd.read_csv('./data/Data_Scientist_Interview_Task.csv')"
   ]
  },
  {
   "cell_type": "code",
   "execution_count": 3,
   "id": "9ba6290c-6e51-4f44-87d5-93c25497bdbc",
   "metadata": {},
   "outputs": [],
   "source": [
    "# drop columns that don't provide useful information\n",
    "df = df.drop(columns=['Claim Number', 'Notifier', 'Loss_code', 'Loss_description', 'Inception_to_loss'])\n",
    "\n",
    "# drop additional columns that we won't use in this round of modelling\n",
    "# date of loss could arguably be used to provide day of the week info that might be useful\n",
    "# time of loss could be used to create time bands that split out rush hours and late nights etc.\n",
    "df = df.drop(columns=['date_of_loss', 'Time_hour'])"
   ]
  },
  {
   "cell_type": "code",
   "execution_count": 4,
   "id": "7f408b86-ddcc-4f26-92dc-8a881bdca1ce",
   "metadata": {},
   "outputs": [],
   "source": [
    "df['Weather_conditions'] = df['Weather_conditions'].fillna('N/K')\n",
    "\n",
    "df['PH_considered_TP_at_fault'] = df['PH_considered_TP_at_fault'].replace('#', 'n/k')"
   ]
  },
  {
   "cell_type": "code",
   "execution_count": 5,
   "id": "753844a2-e65c-4006-81a5-12d955138fc6",
   "metadata": {},
   "outputs": [],
   "source": [
    "# set values in target variables less than zero to zero\n",
    "\n",
    "df.loc[df['Incurred'] < 0, ['Incurred', 'Capped Incurred']] = 0"
   ]
  },
  {
   "cell_type": "markdown",
   "id": "eb5aae8f-1704-43cb-a77d-80add615ea11",
   "metadata": {},
   "source": [
    "## Create Attritional Model"
   ]
  },
  {
   "cell_type": "code",
   "execution_count": 6,
   "id": "743cf130-129b-4046-a194-c6ba20c0cd39",
   "metadata": {},
   "outputs": [],
   "source": [
    "# create a data frame for the attritional claims model\n",
    "\n",
    "df_att = df.drop(columns=['Incurred'])"
   ]
  },
  {
   "cell_type": "code",
   "execution_count": 7,
   "id": "4538438c-50eb-4d71-aaa5-7ef44b484666",
   "metadata": {},
   "outputs": [],
   "source": [
    "\n",
    "feature_names = list(df_att.drop(columns=['Capped Incurred']))\n",
    "cat_features = df_att.drop(columns=['Capped Incurred']).select_dtypes(include=['object']).columns.tolist()\n",
    "\n",
    "data_pool = Pool(\n",
    "    data = df_att.drop(columns=['Capped Incurred']),\n",
    "    label = df_att['Capped Incurred'],\n",
    "    feature_names = feature_names,\n",
    "    cat_features = cat_features\n",
    ")"
   ]
  },
  {
   "cell_type": "code",
   "execution_count": 8,
   "id": "1fe832fe-9b19-4a71-975f-af09cfd97d57",
   "metadata": {},
   "outputs": [],
   "source": [
    "params = {\"objective\": \"Tweedie:variance_power=1.99\",\n",
    "          \"iterations\": 1000,\n",
    "          \"random_seed\": 69,\n",
    "#          \"depth\": 2,\n",
    "#          \"loss_function\": \"Logloss\",\n",
    "          \"verbose\": False}"
   ]
  },
  {
   "cell_type": "code",
   "execution_count": 9,
   "id": "3c9c8c67-394e-4c9a-871a-a05c0541cf38",
   "metadata": {},
   "outputs": [
    {
     "name": "stdout",
     "output_type": "stream",
     "text": [
      "Stopped by overfitting detector  (15 iterations wait)\n"
     ]
    }
   ],
   "source": [
    "scores = cv(pool = data_pool,\n",
    "            params = params,\n",
    "            fold_count = 4,\n",
    "            early_stopping_rounds = 15)"
   ]
  },
  {
   "cell_type": "code",
   "execution_count": 10,
   "id": "fa545901-d8ca-4bf9-99b1-50039be55d6f",
   "metadata": {},
   "outputs": [
    {
     "data": {
      "text/plain": [
       "551"
      ]
     },
     "execution_count": 10,
     "metadata": {},
     "output_type": "execute_result"
    }
   ],
   "source": [
    "optimal_iterations = len(scores)-15\n",
    "optimal_iterations"
   ]
  },
  {
   "cell_type": "code",
   "execution_count": 11,
   "id": "034d9b90-d8af-47a4-b803-337aa13700d7",
   "metadata": {},
   "outputs": [
    {
     "data": {
      "text/plain": [
       "<catboost.core.CatBoostRegressor at 0x7fec30ab5f40>"
      ]
     },
     "execution_count": 11,
     "metadata": {},
     "output_type": "execute_result"
    }
   ],
   "source": [
    "# Fit final model\n",
    "params = {\"objective\": \"Tweedie:variance_power=1.99\",\n",
    "          \"iterations\": optimal_iterations,\n",
    "          \"random_seed\": 69,\n",
    "          \"verbose\": False}\n",
    "\n",
    "\n",
    "att_model = CatBoostRegressor(**params)\n",
    "\n",
    "att_model.fit(data_pool)"
   ]
  },
  {
   "cell_type": "code",
   "execution_count": 12,
   "id": "de82dabc-a205-4cd9-a4bc-b5dc08b1758f",
   "metadata": {},
   "outputs": [
    {
     "data": {
      "text/plain": [
       "4465.370717733324"
      ]
     },
     "execution_count": 12,
     "metadata": {},
     "output_type": "execute_result"
    }
   ],
   "source": [
    "# Calculate mse of the model\n",
    "\n",
    "att_model_preds = att_model.predict(data_pool)\n",
    "\n",
    "mae = mean_absolute_error(att_model_preds, df_att['Capped Incurred'])\n",
    "\n",
    "mae"
   ]
  },
  {
   "cell_type": "code",
   "execution_count": 13,
   "id": "81ae7fe2-6226-49aa-8898-300674f8e771",
   "metadata": {},
   "outputs": [],
   "source": [
    "# save the model\n",
    "model_name = \"fnol_attritional_model.cbm\"\n",
    "\n",
    "att_model.save_model(model_name, format=\"cbm\")"
   ]
  },
  {
   "cell_type": "markdown",
   "id": "dd376067-fbcd-4dd7-b068-dcea81db959a",
   "metadata": {},
   "source": [
    "## Create Large Loss Propensity Model"
   ]
  },
  {
   "cell_type": "code",
   "execution_count": 16,
   "id": "57b4e69e-8609-4ff3-a314-aefe0cfe0824",
   "metadata": {},
   "outputs": [],
   "source": [
    "df['Large_Prop'] = np.where(df['Incurred'] > df['Capped Incurred'], 1, 0)"
   ]
  },
  {
   "cell_type": "code",
   "execution_count": 18,
   "id": "ed0e9df7-3fe3-4618-af4e-9af6a397f717",
   "metadata": {},
   "outputs": [
    {
     "data": {
      "text/plain": [
       "0.025744376544012484"
      ]
     },
     "execution_count": 18,
     "metadata": {},
     "output_type": "execute_result"
    }
   ],
   "source": [
    "df['Large_Prop'].sum()/len(df['Large_Prop'])"
   ]
  },
  {
   "cell_type": "code",
   "execution_count": 19,
   "id": "85af4f9a-7005-4abd-98e6-8331b39e7afb",
   "metadata": {},
   "outputs": [],
   "source": [
    "# create a data frame for the attritional claims model\n",
    "\n",
    "df_large = df.drop(columns=['Incurred', 'Capped Incurred'])"
   ]
  },
  {
   "cell_type": "code",
   "execution_count": 20,
   "id": "20b521c5-3269-4af7-946f-44da8c1e9c86",
   "metadata": {},
   "outputs": [],
   "source": [
    "\n",
    "feature_names = list(df_large.drop(columns=['Large_Prop']))\n",
    "cat_features = df_large.drop(columns=['Large_Prop']).select_dtypes(include=['object']).columns.tolist()\n",
    "\n",
    "data_pool = Pool(\n",
    "    data = df_large.drop(columns=['Large_Prop']),\n",
    "    label = df_large['Large_Prop'],\n",
    "    feature_names = feature_names,\n",
    "    cat_features = cat_features\n",
    ")"
   ]
  },
  {
   "cell_type": "code",
   "execution_count": 21,
   "id": "03a92aeb-9f43-46fd-bcde-0f423a9fc956",
   "metadata": {},
   "outputs": [],
   "source": [
    "params = {\"objective\": \"Logloss\",\n",
    "          \"iterations\": 1000,\n",
    "          \"random_seed\": 69,\n",
    "#          \"depth\": 2,\n",
    "#          \"loss_function\": \"Logloss\",\n",
    "          \"verbose\": False}"
   ]
  },
  {
   "cell_type": "code",
   "execution_count": 22,
   "id": "162bbe41-fac3-45a7-806c-0361b5311625",
   "metadata": {},
   "outputs": [
    {
     "name": "stdout",
     "output_type": "stream",
     "text": [
      "Stopped by overfitting detector  (15 iterations wait)\n"
     ]
    }
   ],
   "source": [
    "scores = cv(pool = data_pool,\n",
    "            params = params,\n",
    "            fold_count = 4,\n",
    "            early_stopping_rounds = 15)"
   ]
  },
  {
   "cell_type": "code",
   "execution_count": 23,
   "id": "61c50adc-8228-44f3-8c95-b883ec057bc9",
   "metadata": {},
   "outputs": [
    {
     "data": {
      "text/plain": [
       "221"
      ]
     },
     "execution_count": 23,
     "metadata": {},
     "output_type": "execute_result"
    }
   ],
   "source": [
    "optimal_iterations = len(scores)-15\n",
    "optimal_iterations"
   ]
  },
  {
   "cell_type": "code",
   "execution_count": 24,
   "id": "af139797-eb7f-4826-b3e1-fc7f232e48dc",
   "metadata": {},
   "outputs": [
    {
     "data": {
      "text/plain": [
       "<catboost.core.CatBoostClassifier at 0x7fec313ea2b0>"
      ]
     },
     "execution_count": 24,
     "metadata": {},
     "output_type": "execute_result"
    }
   ],
   "source": [
    "# Fit final model\n",
    "params = {\"objective\": \"Logloss\",\n",
    "          \"iterations\": optimal_iterations,\n",
    "          \"random_seed\": 69,\n",
    "          \"verbose\": False}\n",
    "\n",
    "\n",
    "large_model = CatBoostClassifier(**params)\n",
    "\n",
    "large_model.fit(data_pool)"
   ]
  },
  {
   "cell_type": "code",
   "execution_count": 25,
   "id": "29accd97-868f-48f9-9ab5-6b236a23ed90",
   "metadata": {},
   "outputs": [
    {
     "data": {
      "text/plain": [
       "0.048048992068878874"
      ]
     },
     "execution_count": 25,
     "metadata": {},
     "output_type": "execute_result"
    }
   ],
   "source": [
    "# Calculate mse of the model\n",
    "\n",
    "large_model_preds = large_model.predict_proba(data_pool)[:, 1]\n",
    "\n",
    "logloss = log_loss(df_large['Large_Prop'], large_model_preds)\n",
    "\n",
    "logloss"
   ]
  },
  {
   "cell_type": "code",
   "execution_count": 26,
   "id": "a4ed0af2-d131-4d62-a2c1-bff1ec8b6f99",
   "metadata": {},
   "outputs": [
    {
     "data": {
      "text/plain": [
       "0.02563057459931495"
      ]
     },
     "execution_count": 26,
     "metadata": {},
     "output_type": "execute_result"
    }
   ],
   "source": [
    "# Mean prediction\n",
    "\n",
    "large_model_preds.mean()"
   ]
  },
  {
   "cell_type": "code",
   "execution_count": 27,
   "id": "9086660e-4152-4805-9271-45802c4ce4c4",
   "metadata": {},
   "outputs": [],
   "source": [
    "# save the model\n",
    "model_name = \"fnol_large_model.cbm\"\n",
    "\n",
    "large_model.save_model(model_name, format=\"cbm\")"
   ]
  },
  {
   "cell_type": "markdown",
   "id": "efababfe-fa39-4c1b-a89d-46e186809672",
   "metadata": {
    "tags": []
   },
   "source": [
    "## Create Large Loss Model"
   ]
  },
  {
   "cell_type": "code",
   "execution_count": 28,
   "id": "7e945088-86c6-48da-8be0-9c0a1a50c32c",
   "metadata": {
    "tags": []
   },
   "outputs": [],
   "source": [
    "df['Large_Incurred'] = df['Incurred'] - df['Capped Incurred']"
   ]
  },
  {
   "cell_type": "code",
   "execution_count": 29,
   "id": "91e70833-1631-4927-97b8-7f962c76de9a",
   "metadata": {},
   "outputs": [
    {
     "data": {
      "text/plain": [
       "128818.101010101"
      ]
     },
     "execution_count": 29,
     "metadata": {},
     "output_type": "execute_result"
    }
   ],
   "source": [
    "large_severity = df[df['Large_Prop']==1]['Large_Incurred'].mean()\n",
    "large_severity"
   ]
  },
  {
   "cell_type": "markdown",
   "id": "7ff98df1-3f48-4340-8c94-ff5a91d670c5",
   "metadata": {
    "tags": []
   },
   "source": [
    "## Overall Model Performance"
   ]
  },
  {
   "cell_type": "code",
   "execution_count": 30,
   "id": "10a45188-413e-4c19-a06c-1e94c32526fa",
   "metadata": {},
   "outputs": [],
   "source": [
    "df['FNOL_Prediction'] = att_model_preds + (large_model_preds * large_severity)"
   ]
  },
  {
   "cell_type": "code",
   "execution_count": 31,
   "id": "35e74096-a3b0-42fb-aba6-a2bdf9d4cadf",
   "metadata": {},
   "outputs": [
    {
     "data": {
      "text/plain": [
       "8898.169940414373"
      ]
     },
     "execution_count": 31,
     "metadata": {},
     "output_type": "execute_result"
    }
   ],
   "source": [
    "df['FNOL_Prediction'].mean()"
   ]
  },
  {
   "cell_type": "code",
   "execution_count": 32,
   "id": "69f5f8aa-c31f-4460-917e-75f658b403fe",
   "metadata": {},
   "outputs": [
    {
     "data": {
      "text/plain": [
       "9427.851644779612"
      ]
     },
     "execution_count": 32,
     "metadata": {},
     "output_type": "execute_result"
    }
   ],
   "source": [
    "df['Incurred'].mean()"
   ]
  },
  {
   "cell_type": "code",
   "execution_count": 33,
   "id": "719cccb7-f21c-4d96-985c-b811bbbf58e9",
   "metadata": {},
   "outputs": [
    {
     "data": {
      "text/plain": [
       "7924.461187881153"
      ]
     },
     "execution_count": 33,
     "metadata": {},
     "output_type": "execute_result"
    }
   ],
   "source": [
    "mae = mean_absolute_error(df['FNOL_Prediction'], df['Incurred'])\n",
    "\n",
    "mae"
   ]
  },
  {
   "cell_type": "code",
   "execution_count": null,
   "id": "c7ee7d00-d04b-455b-9c40-d2fe85b155d5",
   "metadata": {},
   "outputs": [],
   "source": []
  },
  {
   "cell_type": "code",
   "execution_count": 91,
   "id": "d485f096-009d-4b72-acee-6e35e89538d3",
   "metadata": {},
   "outputs": [
    {
     "data": {
      "text/plain": [
       "37"
      ]
     },
     "execution_count": 91,
     "metadata": {},
     "output_type": "execute_result"
    }
   ],
   "source": [
    "len(feature_names)"
   ]
  },
  {
   "cell_type": "code",
   "execution_count": 94,
   "id": "dc349566-89a2-4e37-a381-5e9c03a8405a",
   "metadata": {},
   "outputs": [
    {
     "data": {
      "text/plain": [
       "[1,\n",
       " 2,\n",
       " 3,\n",
       " 4,\n",
       " 5,\n",
       " 6,\n",
       " 7,\n",
       " 8,\n",
       " 9,\n",
       " 10,\n",
       " 11,\n",
       " 12,\n",
       " 13,\n",
       " 14,\n",
       " 15,\n",
       " 16,\n",
       " 17,\n",
       " 18,\n",
       " 19,\n",
       " 20,\n",
       " 21,\n",
       " 22,\n",
       " 23,\n",
       " 24,\n",
       " 25,\n",
       " 26,\n",
       " 27,\n",
       " 28,\n",
       " 29,\n",
       " 30,\n",
       " 31,\n",
       " 32,\n",
       " 33,\n",
       " 34,\n",
       " 35,\n",
       " 36,\n",
       " 37]"
      ]
     },
     "execution_count": 94,
     "metadata": {},
     "output_type": "execute_result"
    }
   ],
   "source": [
    "list(range(1, 38))"
   ]
  },
  {
   "cell_type": "code",
   "execution_count": 96,
   "id": "3d35977a-3f4d-492c-9f99-f4f376f3d728",
   "metadata": {},
   "outputs": [
    {
     "data": {
      "text/plain": [
       "[37,\n",
       " 36,\n",
       " 35,\n",
       " 34,\n",
       " 33,\n",
       " 32,\n",
       " 31,\n",
       " 30,\n",
       " 29,\n",
       " 28,\n",
       " 27,\n",
       " 26,\n",
       " 25,\n",
       " 24,\n",
       " 23,\n",
       " 22,\n",
       " 21,\n",
       " 20,\n",
       " 19,\n",
       " 18,\n",
       " 17,\n",
       " 16,\n",
       " 15,\n",
       " 14,\n",
       " 13,\n",
       " 12,\n",
       " 11,\n",
       " 10,\n",
       " 9,\n",
       " 8,\n",
       " 7,\n",
       " 6,\n",
       " 5,\n",
       " 4,\n",
       " 3,\n",
       " 2,\n",
       " 1]"
      ]
     },
     "execution_count": 96,
     "metadata": {},
     "output_type": "execute_result"
    }
   ],
   "source": [
    "list(reversed(range(1, 38)))"
   ]
  },
  {
   "cell_type": "code",
   "execution_count": null,
   "id": "f56187cf-1db5-45b5-81a4-3fc557e72a77",
   "metadata": {},
   "outputs": [],
   "source": []
  }
 ],
 "metadata": {
  "kernelspec": {
   "display_name": "Python 3",
   "language": "python",
   "name": "python3"
  },
  "language_info": {
   "codemirror_mode": {
    "name": "ipython",
    "version": 3
   },
   "file_extension": ".py",
   "mimetype": "text/x-python",
   "name": "python",
   "nbconvert_exporter": "python",
   "pygments_lexer": "ipython3",
   "version": "3.8.11"
  }
 },
 "nbformat": 4,
 "nbformat_minor": 5
}
