{
 "cells": [
  {
   "cell_type": "markdown",
   "id": "a6cf9fbd-b7b6-410d-849d-aa7782414787",
   "metadata": {},
   "source": [
    "# FNOL Model Build"
   ]
  },
  {
   "cell_type": "code",
   "execution_count": 83,
   "id": "ff166265-1a4a-4a68-a289-99ddf5021d6b",
   "metadata": {
    "tags": []
   },
   "outputs": [],
   "source": [
    "import pandas as pd\n",
    "from catboost import CatBoostRegressor, Pool, cv\n",
    "from sklearn.metrics import mean_absolute_error\n",
    "import numpy as np\n",
    "# from sklearn.model_selection import train_test_split"
   ]
  },
  {
   "cell_type": "code",
   "execution_count": 14,
   "id": "46d8ead4-236a-4575-80df-62e1cc7537a0",
   "metadata": {},
   "outputs": [],
   "source": [
    "df = pd.read_csv('./data/Data_Scientist_Interview_Task.csv')"
   ]
  },
  {
   "cell_type": "code",
   "execution_count": 15,
   "id": "9ba6290c-6e51-4f44-87d5-93c25497bdbc",
   "metadata": {},
   "outputs": [],
   "source": [
    "# drop columns that don't provide useful information\n",
    "df = df.drop(columns=['Claim Number', 'Notifier', 'Loss_code', 'Loss_description', 'Inception_to_loss'])\n",
    "\n",
    "# drop additional columns that we won't use in this round of modelling\n",
    "# date of loss could arguably be used to provide day of the week info that might be useful\n",
    "# time of loss could be used to create time bands that split out rush hours and late nights etc.\n",
    "df = df.drop(columns=['date_of_loss', 'Time_hour'])"
   ]
  },
  {
   "cell_type": "code",
   "execution_count": 43,
   "id": "7f408b86-ddcc-4f26-92dc-8a881bdca1ce",
   "metadata": {},
   "outputs": [],
   "source": [
    "df['Weather_conditions'] = df['Weather_conditions'].fillna('N/K')\n",
    "\n",
    "df['PH_considered_TP_at_fault'] = df['PH_considered_TP_at_fault'].replace('#', 'n/k')"
   ]
  },
  {
   "cell_type": "markdown",
   "id": "eb5aae8f-1704-43cb-a77d-80add615ea11",
   "metadata": {},
   "source": [
    "## Create Attritional Model"
   ]
  },
  {
   "cell_type": "code",
   "execution_count": 45,
   "id": "743cf130-129b-4046-a194-c6ba20c0cd39",
   "metadata": {},
   "outputs": [],
   "source": [
    "# create a data frame for the attritional claims model\n",
    "\n",
    "df_att = df.drop(columns=['Incurred'])"
   ]
  },
  {
   "cell_type": "code",
   "execution_count": 46,
   "id": "4538438c-50eb-4d71-aaa5-7ef44b484666",
   "metadata": {},
   "outputs": [],
   "source": [
    "\n",
    "feature_names = list(df_att.drop(columns=['Capped Incurred']))\n",
    "cat_features = df_att.drop(columns=['Capped Incurred']).select_dtypes(include=['object']).columns.tolist()\n",
    "\n",
    "data_pool = Pool(\n",
    "    data = df_att.drop(columns=['Capped Incurred']),\n",
    "    label = df_att['Capped Incurred'],\n",
    "    feature_names = feature_names,\n",
    "    cat_features = cat_features\n",
    ")"
   ]
  },
  {
   "cell_type": "code",
   "execution_count": 53,
   "id": "1fe832fe-9b19-4a71-975f-af09cfd97d57",
   "metadata": {},
   "outputs": [],
   "source": [
    "params = {\"objective\": \"Tweedie:variance_power=1.99\",\n",
    "          \"iterations\": 1000,\n",
    "          \"random_seed\": 69,\n",
    "#          \"depth\": 2,\n",
    "#          \"loss_function\": \"Logloss\",\n",
    "          \"verbose\": False}"
   ]
  },
  {
   "cell_type": "code",
   "execution_count": 54,
   "id": "3c9c8c67-394e-4c9a-871a-a05c0541cf38",
   "metadata": {},
   "outputs": [
    {
     "name": "stdout",
     "output_type": "stream",
     "text": [
      "Stopped by overfitting detector  (15 iterations wait)\n"
     ]
    }
   ],
   "source": [
    "scores = cv(pool = data_pool,\n",
    "            params = params,\n",
    "            fold_count = 4,\n",
    "            early_stopping_rounds = 15)"
   ]
  },
  {
   "cell_type": "code",
   "execution_count": 64,
   "id": "fa545901-d8ca-4bf9-99b1-50039be55d6f",
   "metadata": {},
   "outputs": [
    {
     "data": {
      "text/plain": [
       "541"
      ]
     },
     "execution_count": 64,
     "metadata": {},
     "output_type": "execute_result"
    }
   ],
   "source": [
    "optimal_iterations = len(scores)-15\n",
    "optimal_iterations"
   ]
  },
  {
   "cell_type": "code",
   "execution_count": 70,
   "id": "034d9b90-d8af-47a4-b803-337aa13700d7",
   "metadata": {},
   "outputs": [
    {
     "data": {
      "text/plain": [
       "<catboost.core.CatBoostRegressor at 0x7fa2c2c05e20>"
      ]
     },
     "execution_count": 70,
     "metadata": {},
     "output_type": "execute_result"
    }
   ],
   "source": [
    "# Fit final model\n",
    "params = {\"objective\": \"Tweedie:variance_power=1.99\",\n",
    "          \"iterations\": optimal_iterations,\n",
    "          \"random_seed\": 69,\n",
    "          \"verbose\": False}\n",
    "\n",
    "\n",
    "att_model = CatBoostRegressor(**params)\n",
    "\n",
    "att_model.fit(data_pool)"
   ]
  },
  {
   "cell_type": "code",
   "execution_count": 78,
   "id": "de82dabc-a205-4cd9-a4bc-b5dc08b1758f",
   "metadata": {},
   "outputs": [
    {
     "data": {
      "text/plain": [
       "4453.762070983822"
      ]
     },
     "execution_count": 78,
     "metadata": {},
     "output_type": "execute_result"
    }
   ],
   "source": [
    "# Calculate mse of the model\n",
    "\n",
    "att_model_preds = att_model.predict(data_pool)\n",
    "\n",
    "mae = mean_absolute_error(att_model_preds, df_att['Capped Incurred'])\n",
    "\n",
    "mae"
   ]
  },
  {
   "cell_type": "code",
   "execution_count": 80,
   "id": "81ae7fe2-6226-49aa-8898-300674f8e771",
   "metadata": {},
   "outputs": [],
   "source": [
    "# save the model\n",
    "model_name = \"fnol_attritional_model.cbm\"\n",
    "\n",
    "att_model.save_model(model_name, format=\"cbm\")"
   ]
  },
  {
   "cell_type": "markdown",
   "id": "dd376067-fbcd-4dd7-b068-dcea81db959a",
   "metadata": {},
   "source": [
    "## Create Large Loss Propensity Model"
   ]
  },
  {
   "cell_type": "code",
   "execution_count": 81,
   "id": "355de5df-da78-48a6-a0cc-9572da57471e",
   "metadata": {},
   "outputs": [
    {
     "data": {
      "text/plain": [
       "['Notification_period',\n",
       " 'Location_of_incident',\n",
       " 'Weather_conditions',\n",
       " 'Vehicle_mobile',\n",
       " 'Main_driver',\n",
       " 'PH_considered_TP_at_fault',\n",
       " 'Vechile_registration_present',\n",
       " 'Incident_details_present',\n",
       " 'Injury_details_present',\n",
       " 'TP_type_insd_pass_back',\n",
       " 'TP_type_insd_pass_front',\n",
       " 'TP_type_driver',\n",
       " 'TP_type_pass_back',\n",
       " 'TP_type_pass_front',\n",
       " 'TP_type_bike',\n",
       " 'TP_type_cyclist',\n",
       " 'TP_type_pass_multi',\n",
       " 'TP_type_pedestrian',\n",
       " 'TP_type_other',\n",
       " 'TP_type_nk',\n",
       " 'TP_injury_whiplash',\n",
       " 'TP_injury_traumatic',\n",
       " 'TP_injury_fatality',\n",
       " 'TP_injury_unclear',\n",
       " 'TP_injury_nk',\n",
       " 'TP_region_eastang',\n",
       " 'TP_region_eastmid',\n",
       " 'TP_region_london',\n",
       " 'TP_region_north',\n",
       " 'TP_region_northw',\n",
       " 'TP_region_outerldn',\n",
       " 'TP_region_scotland',\n",
       " 'TP_region_southe',\n",
       " 'TP_region_southw',\n",
       " 'TP_region_wales',\n",
       " 'TP_region_westmid',\n",
       " 'TP_region_yorkshire',\n",
       " 'Incurred',\n",
       " 'Capped Incurred']"
      ]
     },
     "execution_count": 81,
     "metadata": {},
     "output_type": "execute_result"
    }
   ],
   "source": [
    "list(df)"
   ]
  },
  {
   "cell_type": "code",
   "execution_count": 82,
   "id": "187ef23c-ba45-487e-b36c-70978ec7ffa3",
   "metadata": {},
   "outputs": [
    {
     "data": {
      "text/html": [
       "<div>\n",
       "<style scoped>\n",
       "    .dataframe tbody tr th:only-of-type {\n",
       "        vertical-align: middle;\n",
       "    }\n",
       "\n",
       "    .dataframe tbody tr th {\n",
       "        vertical-align: top;\n",
       "    }\n",
       "\n",
       "    .dataframe thead th {\n",
       "        text-align: right;\n",
       "    }\n",
       "</style>\n",
       "<table border=\"1\" class=\"dataframe\">\n",
       "  <thead>\n",
       "    <tr style=\"text-align: right;\">\n",
       "      <th></th>\n",
       "      <th>Incurred</th>\n",
       "      <th>Capped Incurred</th>\n",
       "    </tr>\n",
       "  </thead>\n",
       "  <tbody>\n",
       "    <tr>\n",
       "      <th>0</th>\n",
       "      <td>0</td>\n",
       "      <td>0</td>\n",
       "    </tr>\n",
       "    <tr>\n",
       "      <th>1</th>\n",
       "      <td>2801</td>\n",
       "      <td>2801</td>\n",
       "    </tr>\n",
       "    <tr>\n",
       "      <th>2</th>\n",
       "      <td>1221</td>\n",
       "      <td>1221</td>\n",
       "    </tr>\n",
       "    <tr>\n",
       "      <th>3</th>\n",
       "      <td>3530</td>\n",
       "      <td>3530</td>\n",
       "    </tr>\n",
       "    <tr>\n",
       "      <th>4</th>\n",
       "      <td>3156</td>\n",
       "      <td>3156</td>\n",
       "    </tr>\n",
       "    <tr>\n",
       "      <th>...</th>\n",
       "      <td>...</td>\n",
       "      <td>...</td>\n",
       "    </tr>\n",
       "    <tr>\n",
       "      <th>7686</th>\n",
       "      <td>703</td>\n",
       "      <td>703</td>\n",
       "    </tr>\n",
       "    <tr>\n",
       "      <th>7687</th>\n",
       "      <td>42981</td>\n",
       "      <td>42981</td>\n",
       "    </tr>\n",
       "    <tr>\n",
       "      <th>7688</th>\n",
       "      <td>5175</td>\n",
       "      <td>5175</td>\n",
       "    </tr>\n",
       "    <tr>\n",
       "      <th>7689</th>\n",
       "      <td>30072</td>\n",
       "      <td>30072</td>\n",
       "    </tr>\n",
       "    <tr>\n",
       "      <th>7690</th>\n",
       "      <td>1925</td>\n",
       "      <td>1925</td>\n",
       "    </tr>\n",
       "  </tbody>\n",
       "</table>\n",
       "<p>7691 rows × 2 columns</p>\n",
       "</div>"
      ],
      "text/plain": [
       "      Incurred  Capped Incurred\n",
       "0            0                0\n",
       "1         2801             2801\n",
       "2         1221             1221\n",
       "3         3530             3530\n",
       "4         3156             3156\n",
       "...        ...              ...\n",
       "7686       703              703\n",
       "7687     42981            42981\n",
       "7688      5175             5175\n",
       "7689     30072            30072\n",
       "7690      1925             1925\n",
       "\n",
       "[7691 rows x 2 columns]"
      ]
     },
     "execution_count": 82,
     "metadata": {},
     "output_type": "execute_result"
    }
   ],
   "source": [
    "df[['Incurred', 'Capped Incurred']]"
   ]
  },
  {
   "cell_type": "code",
   "execution_count": 84,
   "id": "57b4e69e-8609-4ff3-a314-aefe0cfe0824",
   "metadata": {},
   "outputs": [],
   "source": [
    "df['Large_Prop'] = np.where(df['Incurred'] > df['Capped Incurred'], 1, 0)"
   ]
  },
  {
   "cell_type": "code",
   "execution_count": null,
   "id": "9aacd74d-9e94-45cb-bd48-0813c1cdb596",
   "metadata": {},
   "outputs": [],
   "source": []
  },
  {
   "cell_type": "markdown",
   "id": "efababfe-fa39-4c1b-a89d-46e186809672",
   "metadata": {
    "tags": []
   },
   "source": [
    "## Create Large Loss Model"
   ]
  },
  {
   "cell_type": "code",
   "execution_count": 85,
   "id": "7e945088-86c6-48da-8be0-9c0a1a50c32c",
   "metadata": {
    "tags": []
   },
   "outputs": [],
   "source": [
    "df['Large_Incurred'] = df['Incurred'] - df['Capped Incurred']"
   ]
  },
  {
   "cell_type": "code",
   "execution_count": 88,
   "id": "91e70833-1631-4927-97b8-7f962c76de9a",
   "metadata": {},
   "outputs": [
    {
     "data": {
      "text/plain": [
       "128818.101010101"
      ]
     },
     "execution_count": 88,
     "metadata": {},
     "output_type": "execute_result"
    }
   ],
   "source": [
    "df[df['Large_Prop']==1]['Large_Incurred'].mean()"
   ]
  },
  {
   "cell_type": "code",
   "execution_count": null,
   "id": "8062feb5-afcf-4e2c-934e-3d3eea3cff39",
   "metadata": {
    "tags": []
   },
   "outputs": [],
   "source": []
  },
  {
   "cell_type": "code",
   "execution_count": null,
   "id": "3d35977a-3f4d-492c-9f99-f4f376f3d728",
   "metadata": {},
   "outputs": [],
   "source": []
  },
  {
   "cell_type": "code",
   "execution_count": null,
   "id": "f56187cf-1db5-45b5-81a4-3fc557e72a77",
   "metadata": {},
   "outputs": [],
   "source": []
  }
 ],
 "metadata": {
  "kernelspec": {
   "display_name": "Python 3 (ipykernel)",
   "language": "python",
   "name": "python3"
  },
  "language_info": {
   "codemirror_mode": {
    "name": "ipython",
    "version": 3
   },
   "file_extension": ".py",
   "mimetype": "text/x-python",
   "name": "python",
   "nbconvert_exporter": "python",
   "pygments_lexer": "ipython3",
   "version": "3.8.11"
  }
 },
 "nbformat": 4,
 "nbformat_minor": 5
}
