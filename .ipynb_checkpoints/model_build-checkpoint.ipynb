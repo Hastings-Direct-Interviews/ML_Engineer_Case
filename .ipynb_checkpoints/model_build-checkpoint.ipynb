{
 "cells": [
  {
   "cell_type": "markdown",
   "id": "a6cf9fbd-b7b6-410d-849d-aa7782414787",
   "metadata": {},
   "source": [
    "# FNOL Model Build"
   ]
  },
  {
   "cell_type": "code",
   "execution_count": 73,
   "id": "ff166265-1a4a-4a68-a289-99ddf5021d6b",
   "metadata": {
    "tags": []
   },
   "outputs": [],
   "source": [
    "import pandas as pd\n",
    "from catboost import CatBoostRegressor, Pool, cv\n",
    "from sklearn.metrics import mean_squared_error\n",
    "# from sklearn.model_selection import train_test_split"
   ]
  },
  {
   "cell_type": "code",
   "execution_count": 14,
   "id": "46d8ead4-236a-4575-80df-62e1cc7537a0",
   "metadata": {},
   "outputs": [],
   "source": [
    "df = pd.read_csv('./data/Data_Scientist_Interview_Task.csv')"
   ]
  },
  {
   "cell_type": "code",
   "execution_count": 15,
   "id": "9ba6290c-6e51-4f44-87d5-93c25497bdbc",
   "metadata": {},
   "outputs": [],
   "source": [
    "# drop columns that don't provide useful information\n",
    "df = df.drop(columns=['Claim Number', 'Notifier', 'Loss_code', 'Loss_description', 'Inception_to_loss'])\n",
    "\n",
    "# drop additional columns that we won't use in this round of modelling\n",
    "# date of loss could arguably be used to provide day of the week info that might be useful\n",
    "# time of loss could be used to create time bands that split out rush hours and late nights etc.\n",
    "df = df.drop(columns=['date_of_loss', 'Time_hour'])"
   ]
  },
  {
   "cell_type": "code",
   "execution_count": 43,
   "id": "7f408b86-ddcc-4f26-92dc-8a881bdca1ce",
   "metadata": {},
   "outputs": [],
   "source": [
    "df['Weather_conditions'] = df['Weather_conditions'].fillna('N/K')\n",
    "\n",
    "df['PH_considered_TP_at_fault'] = df['PH_considered_TP_at_fault'].replace('#', 'n/k')"
   ]
  },
  {
   "cell_type": "markdown",
   "id": "eb5aae8f-1704-43cb-a77d-80add615ea11",
   "metadata": {},
   "source": [
    "## Create Attritional Model"
   ]
  },
  {
   "cell_type": "code",
   "execution_count": 45,
   "id": "743cf130-129b-4046-a194-c6ba20c0cd39",
   "metadata": {},
   "outputs": [],
   "source": [
    "# create a data frame for the attritional claims model\n",
    "\n",
    "df_att = df.drop(columns=['Incurred'])"
   ]
  },
  {
   "cell_type": "code",
   "execution_count": 46,
   "id": "4538438c-50eb-4d71-aaa5-7ef44b484666",
   "metadata": {},
   "outputs": [],
   "source": [
    "\n",
    "feature_names = list(df_att.drop(columns=['Capped Incurred']))\n",
    "cat_features = df_att.drop(columns=['Capped Incurred']).select_dtypes(include=['object']).columns.tolist()\n",
    "\n",
    "data_pool = Pool(\n",
    "    data = df_att.drop(columns=['Capped Incurred']),\n",
    "    label = df_att['Capped Incurred'],\n",
    "    feature_names = feature_names,\n",
    "    cat_features = cat_features\n",
    ")"
   ]
  },
  {
   "cell_type": "code",
   "execution_count": 53,
   "id": "1fe832fe-9b19-4a71-975f-af09cfd97d57",
   "metadata": {},
   "outputs": [],
   "source": [
    "params = {\"objective\": \"Tweedie:variance_power=1.99\",\n",
    "          \"iterations\": 1000,\n",
    "          \"random_seed\": 69,\n",
    "#          \"depth\": 2,\n",
    "#          \"loss_function\": \"Logloss\",\n",
    "          \"verbose\": False}"
   ]
  },
  {
   "cell_type": "code",
   "execution_count": 54,
   "id": "3c9c8c67-394e-4c9a-871a-a05c0541cf38",
   "metadata": {},
   "outputs": [
    {
     "name": "stdout",
     "output_type": "stream",
     "text": [
      "Stopped by overfitting detector  (15 iterations wait)\n"
     ]
    }
   ],
   "source": [
    "scores = cv(pool = data_pool,\n",
    "            params = params,\n",
    "            fold_count = 4,\n",
    "            early_stopping_rounds = 15)"
   ]
  },
  {
   "cell_type": "code",
   "execution_count": 64,
   "id": "fa545901-d8ca-4bf9-99b1-50039be55d6f",
   "metadata": {},
   "outputs": [
    {
     "data": {
      "text/plain": [
       "541"
      ]
     },
     "execution_count": 64,
     "metadata": {},
     "output_type": "execute_result"
    }
   ],
   "source": [
    "optimal_iterations = len(scores)-15\n",
    "optimal_iterations"
   ]
  },
  {
   "cell_type": "code",
   "execution_count": 70,
   "id": "034d9b90-d8af-47a4-b803-337aa13700d7",
   "metadata": {},
   "outputs": [
    {
     "data": {
      "text/plain": [
       "<catboost.core.CatBoostRegressor at 0x7fa2c2c05e20>"
      ]
     },
     "execution_count": 70,
     "metadata": {},
     "output_type": "execute_result"
    }
   ],
   "source": [
    "# Fit final model\n",
    "params = {\"objective\": \"Tweedie:variance_power=1.99\",\n",
    "          \"iterations\": optimal_iterations,\n",
    "          \"random_seed\": 69,\n",
    "          \"verbose\": False}\n",
    "\n",
    "\n",
    "att_model = CatBoostRegressor(**params)\n",
    "\n",
    "att_model.fit(data_pool)"
   ]
  },
  {
   "cell_type": "code",
   "execution_count": 72,
   "id": "de82dabc-a205-4cd9-a4bc-b5dc08b1758f",
   "metadata": {},
   "outputs": [
    {
     "ename": "NameError",
     "evalue": "name 'mean_squared_error' is not defined",
     "output_type": "error",
     "traceback": [
      "\u001b[0;31m---------------------------------------------------------------------------\u001b[0m",
      "\u001b[0;31mNameError\u001b[0m                                 Traceback (most recent call last)",
      "\u001b[0;32m/tmp/ipykernel_2338175/1280619000.py\u001b[0m in \u001b[0;36m<module>\u001b[0;34m\u001b[0m\n\u001b[1;32m      3\u001b[0m \u001b[0matt_model_preds\u001b[0m \u001b[0;34m=\u001b[0m \u001b[0matt_model\u001b[0m\u001b[0;34m.\u001b[0m\u001b[0mpredict\u001b[0m\u001b[0;34m(\u001b[0m\u001b[0mdata_pool\u001b[0m\u001b[0;34m)\u001b[0m\u001b[0;34m\u001b[0m\u001b[0;34m\u001b[0m\u001b[0m\n\u001b[1;32m      4\u001b[0m \u001b[0;34m\u001b[0m\u001b[0m\n\u001b[0;32m----> 5\u001b[0;31m \u001b[0mmse\u001b[0m \u001b[0;34m=\u001b[0m \u001b[0mmean_squared_error\u001b[0m\u001b[0;34m(\u001b[0m\u001b[0matt_model_preds\u001b[0m\u001b[0;34m,\u001b[0m \u001b[0mdf_att\u001b[0m\u001b[0;34m[\u001b[0m\u001b[0;34m'Capped Incurred'\u001b[0m\u001b[0;34m]\u001b[0m\u001b[0;34m)\u001b[0m\u001b[0;34m\u001b[0m\u001b[0;34m\u001b[0m\u001b[0m\n\u001b[0m\u001b[1;32m      6\u001b[0m \u001b[0;34m\u001b[0m\u001b[0m\n\u001b[1;32m      7\u001b[0m \u001b[0mmse\u001b[0m\u001b[0;34m\u001b[0m\u001b[0;34m\u001b[0m\u001b[0m\n",
      "\u001b[0;31mNameError\u001b[0m: name 'mean_squared_error' is not defined"
     ]
    }
   ],
   "source": [
    "# Calculate mse of the model\n",
    "\n",
    "att_model_preds = att_model.predict(data_pool)\n",
    "\n",
    "mse = mean_squared_error(att_model_preds, df_att['Capped Incurred'])\n",
    "\n",
    "mse"
   ]
  },
  {
   "cell_type": "code",
   "execution_count": null,
   "id": "5af5fc94-9334-4f58-81fb-0e055ea5f12e",
   "metadata": {},
   "outputs": [],
   "source": []
  },
  {
   "cell_type": "code",
   "execution_count": null,
   "id": "03c1630f-6178-48d4-b484-abea8596f783",
   "metadata": {},
   "outputs": [],
   "source": []
  },
  {
   "cell_type": "markdown",
   "id": "dd376067-fbcd-4dd7-b068-dcea81db959a",
   "metadata": {},
   "source": [
    "## Create Large Loss Propensity Model"
   ]
  },
  {
   "cell_type": "code",
   "execution_count": null,
   "id": "355de5df-da78-48a6-a0cc-9572da57471e",
   "metadata": {},
   "outputs": [],
   "source": []
  },
  {
   "cell_type": "code",
   "execution_count": null,
   "id": "187ef23c-ba45-487e-b36c-70978ec7ffa3",
   "metadata": {},
   "outputs": [],
   "source": []
  },
  {
   "cell_type": "code",
   "execution_count": null,
   "id": "57b4e69e-8609-4ff3-a314-aefe0cfe0824",
   "metadata": {},
   "outputs": [],
   "source": []
  },
  {
   "cell_type": "code",
   "execution_count": null,
   "id": "9aacd74d-9e94-45cb-bd48-0813c1cdb596",
   "metadata": {},
   "outputs": [],
   "source": []
  },
  {
   "cell_type": "markdown",
   "id": "efababfe-fa39-4c1b-a89d-46e186809672",
   "metadata": {
    "tags": []
   },
   "source": [
    "## Create Large Loss Model"
   ]
  },
  {
   "cell_type": "code",
   "execution_count": null,
   "id": "7e945088-86c6-48da-8be0-9c0a1a50c32c",
   "metadata": {},
   "outputs": [],
   "source": []
  },
  {
   "cell_type": "code",
   "execution_count": null,
   "id": "91e70833-1631-4927-97b8-7f962c76de9a",
   "metadata": {},
   "outputs": [],
   "source": []
  },
  {
   "cell_type": "code",
   "execution_count": null,
   "id": "8062feb5-afcf-4e2c-934e-3d3eea3cff39",
   "metadata": {
    "tags": []
   },
   "outputs": [],
   "source": []
  },
  {
   "cell_type": "code",
   "execution_count": null,
   "id": "3d35977a-3f4d-492c-9f99-f4f376f3d728",
   "metadata": {},
   "outputs": [],
   "source": []
  },
  {
   "cell_type": "code",
   "execution_count": null,
   "id": "f56187cf-1db5-45b5-81a4-3fc557e72a77",
   "metadata": {},
   "outputs": [],
   "source": []
  }
 ],
 "metadata": {
  "kernelspec": {
   "display_name": "Python 3 (ipykernel)",
   "language": "python",
   "name": "python3"
  },
  "language_info": {
   "codemirror_mode": {
    "name": "ipython",
    "version": 3
   },
   "file_extension": ".py",
   "mimetype": "text/x-python",
   "name": "python",
   "nbconvert_exporter": "python",
   "pygments_lexer": "ipython3",
   "version": "3.8.11"
  }
 },
 "nbformat": 4,
 "nbformat_minor": 5
}
